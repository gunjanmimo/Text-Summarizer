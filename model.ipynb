{
 "cells": [
  {
   "cell_type": "markdown",
   "metadata": {},
   "source": [
    "# module install"
   ]
  },
  {
   "cell_type": "code",
   "execution_count": 1,
   "metadata": {},
   "outputs": [],
   "source": [
    "#!pip install spacy"
   ]
  },
  {
   "cell_type": "code",
   "execution_count": 2,
   "metadata": {},
   "outputs": [],
   "source": [
    "#pip install https://github.com/explosion/spacy-models/releases/download/en_core_web_sm-2.2.0/en_core_web_sm-2.2.0.tar.gz\n"
   ]
  },
  {
   "cell_type": "code",
   "execution_count": null,
   "metadata": {},
   "outputs": [],
   "source": []
  },
  {
   "cell_type": "markdown",
   "metadata": {},
   "source": [
    "# text"
   ]
  },
  {
   "cell_type": "code",
   "execution_count": 3,
   "metadata": {},
   "outputs": [],
   "source": [
    "text=\"India is known for diversity in the region, diversity in languages, diversity in food, diversity in clothing, diversity in the festival, diversity in states, diversity in everything that represents the world. country and its people. India is a country of the republic that is for the people, by the people and by the people. People run their county, people choose their own leader, and people are independent of everything. India is a country where people are changed according to their location. Each state has its incredible beauty of heritage as well as the nation. Each state has its own history of religion. In the fields of literature and science, my country has produced a prominent personality such as Rabindranath Tagore, Premchand , Sara Chandra, Raman CV, Jagadish Chandra Bose and Dr. Abdul Kalama. These big names make me proud of my country. My country is a land of villages and fields full of bodies. I am proud of his village from which the Indian civilization flourished. Most of the great leaders of our country came from villages. Our fields are fed by mighty rivers like Ganges, Yamuna, Brahmaputra, Godavari, Narmada, Krishna and Kavery. The   Gangetic Valley is the most fertile region of our country. The oceans bathing its shores on three sides and the mighty Himalayas to the north have given my country natural boundaries. Once again, the attraction of the mountain has attracted many adventures to this land of rich culture. Our state is secular. On his knees breathe the happy disciples of the different religions of the world. We have a unique culture that has vested throughout the centuries. There is a lot of diversity among our people. We speak several languages, we worship many gods and yet we have the same spirit, the spirit of India, which crosses all parts of our country and binds us all together. We have a great unity in diversity. Basically, Indian culture is tolerant and absorbing. His nature is assimilative. The democratic installation facilitates the process. Diversity in all aspects of society serves as a source of strength and wealth. The different ways of worshiping and believing represent the underlying uniformity      . They promote a spirit of harmony and fraternity. This goes beyond all considerations of religious, regional, linguistic diversity. India is rich in dialects and languages. Twenty-two languages constitutionally enjoy official language status, but Hindi is recognized as the lingua franca of the nation. From Kashmir to Kanyakumari and from Nagaland to Mumbai, Hindi is understood as the national language of India. Although different regions have different regional affiliations, they are all Indian. People are called Bihari , Punjabi, Kashmiri, Marathi, Gujarati, but they are proud to say that they are Indians. Indian dance and theatre are brilliant examples of unity in diversity. The country is full of tribal dances, folk dances, and classical dances of great virtuosity. They are considered as the mode of aesthetic expression but they all symbolize India. The expression is different but the theme is the same. \""
   ]
  },
  {
   "cell_type": "code",
   "execution_count": 4,
   "metadata": {},
   "outputs": [
    {
     "data": {
      "text/plain": [
       "3096"
      ]
     },
     "execution_count": 4,
     "metadata": {},
     "output_type": "execute_result"
    }
   ],
   "source": [
    "len(text)"
   ]
  },
  {
   "cell_type": "markdown",
   "metadata": {},
   "source": [
    "# import libraries"
   ]
  },
  {
   "cell_type": "code",
   "execution_count": 5,
   "metadata": {},
   "outputs": [],
   "source": [
    "import spacy\n",
    "from spacy.lang.en.stop_words import STOP_WORDS\n",
    "from string import punctuation"
   ]
  },
  {
   "cell_type": "code",
   "execution_count": 6,
   "metadata": {},
   "outputs": [],
   "source": [
    "stopWords= list(STOP_WORDS)"
   ]
  },
  {
   "cell_type": "code",
   "execution_count": null,
   "metadata": {},
   "outputs": [],
   "source": []
  },
  {
   "cell_type": "code",
   "execution_count": 7,
   "metadata": {},
   "outputs": [
    {
     "name": "stderr",
     "output_type": "stream",
     "text": [
      "/opt/anaconda3/lib/python3.8/site-packages/spacy/util.py:275: UserWarning: [W031] Model 'en_core_web_sm' (2.2.0) requires spaCy v2.2 and is incompatible with the current spaCy version (2.3.2). This may lead to unexpected results or runtime errors. To resolve this, download a newer compatible model or retrain your custom model with the current spaCy version. For more details and available updates, run: python -m spacy validate\n",
      "  warnings.warn(warn_msg)\n"
     ]
    }
   ],
   "source": [
    "nlp =spacy.load('en_core_web_sm')"
   ]
  },
  {
   "cell_type": "code",
   "execution_count": 8,
   "metadata": {},
   "outputs": [],
   "source": [
    "### alternative if you face error\n",
    "\n",
    "#import en_core_web_sm\n",
    "#nlp = en_core_web_sm.load()"
   ]
  },
  {
   "cell_type": "code",
   "execution_count": 9,
   "metadata": {},
   "outputs": [],
   "source": [
    "doc = nlp(text)"
   ]
  },
  {
   "cell_type": "code",
   "execution_count": 10,
   "metadata": {},
   "outputs": [
    {
     "data": {
      "text/plain": [
       "India is known for diversity in the region, diversity in languages, diversity in food, diversity in clothing, diversity in the festival, diversity in states, diversity in everything that represents the world. country and its people. India is a country of the republic that is for the people, by the people and by the people. People run their county, people choose their own leader, and people are independent of everything. India is a country where people are changed according to their location. Each state has its incredible beauty of heritage as well as the nation. Each state has its own history of religion. In the fields of literature and science, my country has produced a prominent personality such as Rabindranath Tagore, Premchand , Sara Chandra, Raman CV, Jagadish Chandra Bose and Dr. Abdul Kalama. These big names make me proud of my country. My country is a land of villages and fields full of bodies. I am proud of his village from which the Indian civilization flourished. Most of the great leaders of our country came from villages. Our fields are fed by mighty rivers like Ganges, Yamuna, Brahmaputra, Godavari, Narmada, Krishna and Kavery. The   Gangetic Valley is the most fertile region of our country. The oceans bathing its shores on three sides and the mighty Himalayas to the north have given my country natural boundaries. Once again, the attraction of the mountain has attracted many adventures to this land of rich culture. Our state is secular. On his knees breathe the happy disciples of the different religions of the world. We have a unique culture that has vested throughout the centuries. There is a lot of diversity among our people. We speak several languages, we worship many gods and yet we have the same spirit, the spirit of India, which crosses all parts of our country and binds us all together. We have a great unity in diversity. Basically, Indian culture is tolerant and absorbing. His nature is assimilative. The democratic installation facilitates the process. Diversity in all aspects of society serves as a source of strength and wealth. The different ways of worshiping and believing represent the underlying uniformity      . They promote a spirit of harmony and fraternity. This goes beyond all considerations of religious, regional, linguistic diversity. India is rich in dialects and languages. Twenty-two languages constitutionally enjoy official language status, but Hindi is recognized as the lingua franca of the nation. From Kashmir to Kanyakumari and from Nagaland to Mumbai, Hindi is understood as the national language of India. Although different regions have different regional affiliations, they are all Indian. People are called Bihari , Punjabi, Kashmiri, Marathi, Gujarati, but they are proud to say that they are Indians. Indian dance and theatre are brilliant examples of unity in diversity. The country is full of tribal dances, folk dances, and classical dances of great virtuosity. They are considered as the mode of aesthetic expression but they all symbolize India. The expression is different but the theme is the same. "
      ]
     },
     "execution_count": 10,
     "metadata": {},
     "output_type": "execute_result"
    }
   ],
   "source": [
    "doc"
   ]
  },
  {
   "cell_type": "code",
   "execution_count": 11,
   "metadata": {},
   "outputs": [],
   "source": [
    "tokens= [token.text for token in doc]"
   ]
  },
  {
   "cell_type": "code",
   "execution_count": 12,
   "metadata": {},
   "outputs": [
    {
     "name": "stdout",
     "output_type": "stream",
     "text": [
      "['India', 'is', 'known', 'for', 'diversity', 'in', 'the', 'region', ',', 'diversity', 'in', 'languages', ',', 'diversity', 'in', 'food', ',', 'diversity', 'in', 'clothing', ',', 'diversity', 'in', 'the', 'festival', ',', 'diversity', 'in', 'states', ',', 'diversity', 'in', 'everything', 'that', 'represents', 'the', 'world', '.', 'country', 'and', 'its', 'people', '.', 'India', 'is', 'a', 'country', 'of', 'the', 'republic', 'that', 'is', 'for', 'the', 'people', ',', 'by', 'the', 'people', 'and', 'by', 'the', 'people', '.', 'People', 'run', 'their', 'county', ',', 'people', 'choose', 'their', 'own', 'leader', ',', 'and', 'people', 'are', 'independent', 'of', 'everything', '.', 'India', 'is', 'a', 'country', 'where', 'people', 'are', 'changed', 'according', 'to', 'their', 'location', '.', 'Each', 'state', 'has', 'its', 'incredible', 'beauty', 'of', 'heritage', 'as', 'well', 'as', 'the', 'nation', '.', 'Each', 'state', 'has', 'its', 'own', 'history', 'of', 'religion', '.', 'In', 'the', 'fields', 'of', 'literature', 'and', 'science', ',', 'my', 'country', 'has', 'produced', 'a', 'prominent', 'personality', 'such', 'as', 'Rabindranath', 'Tagore', ',', 'Premchand', ',', 'Sara', 'Chandra', ',', 'Raman', 'CV', ',', 'Jagadish', 'Chandra', 'Bose', 'and', 'Dr.', 'Abdul', 'Kalama', '.', 'These', 'big', 'names', 'make', 'me', 'proud', 'of', 'my', 'country', '.', 'My', 'country', 'is', 'a', 'land', 'of', 'villages', 'and', 'fields', 'full', 'of', 'bodies', '.', 'I', 'am', 'proud', 'of', 'his', 'village', 'from', 'which', 'the', 'Indian', 'civilization', 'flourished', '.', 'Most', 'of', 'the', 'great', 'leaders', 'of', 'our', 'country', 'came', 'from', 'villages', '.', 'Our', 'fields', 'are', 'fed', 'by', 'mighty', 'rivers', 'like', 'Ganges', ',', 'Yamuna', ',', 'Brahmaputra', ',', 'Godavari', ',', 'Narmada', ',', 'Krishna', 'and', 'Kavery', '.', 'The', '  ', 'Gangetic', 'Valley', 'is', 'the', 'most', 'fertile', 'region', 'of', 'our', 'country', '.', 'The', 'oceans', 'bathing', 'its', 'shores', 'on', 'three', 'sides', 'and', 'the', 'mighty', 'Himalayas', 'to', 'the', 'north', 'have', 'given', 'my', 'country', 'natural', 'boundaries', '.', 'Once', 'again', ',', 'the', 'attraction', 'of', 'the', 'mountain', 'has', 'attracted', 'many', 'adventures', 'to', 'this', 'land', 'of', 'rich', 'culture', '.', 'Our', 'state', 'is', 'secular', '.', 'On', 'his', 'knees', 'breathe', 'the', 'happy', 'disciples', 'of', 'the', 'different', 'religions', 'of', 'the', 'world', '.', 'We', 'have', 'a', 'unique', 'culture', 'that', 'has', 'vested', 'throughout', 'the', 'centuries', '.', 'There', 'is', 'a', 'lot', 'of', 'diversity', 'among', 'our', 'people', '.', 'We', 'speak', 'several', 'languages', ',', 'we', 'worship', 'many', 'gods', 'and', 'yet', 'we', 'have', 'the', 'same', 'spirit', ',', 'the', 'spirit', 'of', 'India', ',', 'which', 'crosses', 'all', 'parts', 'of', 'our', 'country', 'and', 'binds', 'us', 'all', 'together', '.', 'We', 'have', 'a', 'great', 'unity', 'in', 'diversity', '.', 'Basically', ',', 'Indian', 'culture', 'is', 'tolerant', 'and', 'absorbing', '.', 'His', 'nature', 'is', 'assimilative', '.', 'The', 'democratic', 'installation', 'facilitates', 'the', 'process', '.', 'Diversity', 'in', 'all', 'aspects', 'of', 'society', 'serves', 'as', 'a', 'source', 'of', 'strength', 'and', 'wealth', '.', 'The', 'different', 'ways', 'of', 'worshiping', 'and', 'believing', 'represent', 'the', 'underlying', 'uniformity', '     ', '.', 'They', 'promote', 'a', 'spirit', 'of', 'harmony', 'and', 'fraternity', '.', 'This', 'goes', 'beyond', 'all', 'considerations', 'of', 'religious', ',', 'regional', ',', 'linguistic', 'diversity', '.', 'India', 'is', 'rich', 'in', 'dialects', 'and', 'languages', '.', 'Twenty', '-', 'two', 'languages', 'constitutionally', 'enjoy', 'official', 'language', 'status', ',', 'but', 'Hindi', 'is', 'recognized', 'as', 'the', 'lingua', 'franca', 'of', 'the', 'nation', '.', 'From', 'Kashmir', 'to', 'Kanyakumari', 'and', 'from', 'Nagaland', 'to', 'Mumbai', ',', 'Hindi', 'is', 'understood', 'as', 'the', 'national', 'language', 'of', 'India', '.', 'Although', 'different', 'regions', 'have', 'different', 'regional', 'affiliations', ',', 'they', 'are', 'all', 'Indian', '.', 'People', 'are', 'called', 'Bihari', ',', 'Punjabi', ',', 'Kashmiri', ',', 'Marathi', ',', 'Gujarati', ',', 'but', 'they', 'are', 'proud', 'to', 'say', 'that', 'they', 'are', 'Indians', '.', 'Indian', 'dance', 'and', 'theatre', 'are', 'brilliant', 'examples', 'of', 'unity', 'in', 'diversity', '.', 'The', 'country', 'is', 'full', 'of', 'tribal', 'dances', ',', 'folk', 'dances', ',', 'and', 'classical', 'dances', 'of', 'great', 'virtuosity', '.', 'They', 'are', 'considered', 'as', 'the', 'mode', 'of', 'aesthetic', 'expression', 'but', 'they', 'all', 'symbolize', 'India', '.', 'The', 'expression', 'is', 'different', 'but', 'the', 'theme', 'is', 'the', 'same', '.']\n"
     ]
    }
   ],
   "source": [
    "print(tokens)"
   ]
  },
  {
   "cell_type": "code",
   "execution_count": null,
   "metadata": {},
   "outputs": [],
   "source": []
  },
  {
   "cell_type": "markdown",
   "metadata": {},
   "source": [
    "# removing tokens"
   ]
  },
  {
   "cell_type": "code",
   "execution_count": 13,
   "metadata": {},
   "outputs": [
    {
     "data": {
      "text/plain": [
       "'!\"#$%&\\'()*+,-./:;<=>?@[\\\\]^_`{|}~'"
      ]
     },
     "execution_count": 13,
     "metadata": {},
     "output_type": "execute_result"
    }
   ],
   "source": [
    "# available punctuation\n",
    "punctuation"
   ]
  },
  {
   "cell_type": "code",
   "execution_count": 14,
   "metadata": {},
   "outputs": [],
   "source": [
    "# new line is not available \n",
    "# add new line in punctuation\n",
    "punctuation=punctuation+'\\n'"
   ]
  },
  {
   "cell_type": "code",
   "execution_count": 15,
   "metadata": {},
   "outputs": [
    {
     "data": {
      "text/plain": [
       "'!\"#$%&\\'()*+,-./:;<=>?@[\\\\]^_`{|}~\\n'"
      ]
     },
     "execution_count": 15,
     "metadata": {},
     "output_type": "execute_result"
    }
   ],
   "source": [
    "punctuation"
   ]
  },
  {
   "cell_type": "code",
   "execution_count": null,
   "metadata": {},
   "outputs": [],
   "source": []
  },
  {
   "cell_type": "code",
   "execution_count": null,
   "metadata": {},
   "outputs": [],
   "source": []
  },
  {
   "cell_type": "code",
   "execution_count": 16,
   "metadata": {},
   "outputs": [],
   "source": [
    "word_freq={}\n",
    "for word in doc:\n",
    "    if word.text.lower() not in stopWords:\n",
    "        if word.text.lower() not in punctuation:\n",
    "            if word.text not in word_freq.keys():\n",
    "                word_freq[word.text]=1\n",
    "            else:\n",
    "                word_freq[word.text] += 1\n",
    "                "
   ]
  },
  {
   "cell_type": "code",
   "execution_count": 17,
   "metadata": {},
   "outputs": [],
   "source": [
    "# word_freq"
   ]
  },
  {
   "cell_type": "markdown",
   "metadata": {},
   "source": [
    "## Maximum frequency of words"
   ]
  },
  {
   "cell_type": "code",
   "execution_count": 18,
   "metadata": {},
   "outputs": [
    {
     "name": "stdout",
     "output_type": "stream",
     "text": [
      "11\n"
     ]
    }
   ],
   "source": [
    "print(max(word_freq.values()))"
   ]
  },
  {
   "cell_type": "code",
   "execution_count": 19,
   "metadata": {},
   "outputs": [],
   "source": [
    "max_freq=max(word_freq.values())"
   ]
  },
  {
   "cell_type": "code",
   "execution_count": null,
   "metadata": {},
   "outputs": [],
   "source": []
  },
  {
   "cell_type": "code",
   "execution_count": 20,
   "metadata": {},
   "outputs": [],
   "source": [
    "# normalization of frequency \n",
    "## formula = each word frequency / max_freq"
   ]
  },
  {
   "cell_type": "code",
   "execution_count": 21,
   "metadata": {},
   "outputs": [],
   "source": [
    "for word in word_freq.keys():\n",
    "    word_freq[word]=word_freq[word]/max_freq"
   ]
  },
  {
   "cell_type": "code",
   "execution_count": 22,
   "metadata": {},
   "outputs": [],
   "source": [
    "# normalise form\n",
    "# word_freq"
   ]
  },
  {
   "cell_type": "code",
   "execution_count": null,
   "metadata": {},
   "outputs": [],
   "source": []
  },
  {
   "cell_type": "markdown",
   "metadata": {},
   "source": [
    "# sentence tokenisetion"
   ]
  },
  {
   "cell_type": "code",
   "execution_count": 23,
   "metadata": {},
   "outputs": [],
   "source": [
    "sentence_tokens=[sent for sent in doc.sents]"
   ]
  },
  {
   "cell_type": "code",
   "execution_count": 24,
   "metadata": {},
   "outputs": [
    {
     "data": {
      "text/plain": [
       "[India is known for diversity in the region, diversity in languages, diversity in food, diversity in clothing, diversity in the festival, diversity in states, diversity in everything that represents the world.,\n",
       " country and its people.,\n",
       " India is a country of the republic that is for the people, by the people and by the people.,\n",
       " People run their county, people choose their own leader, and people are independent of everything.,\n",
       " India is a country where people are changed according to their location.,\n",
       " Each state has its incredible beauty of heritage as well as the nation.,\n",
       " Each state has its own history of religion.,\n",
       " In the fields of literature and science, my country has produced a prominent personality such as Rabindranath Tagore, Premchand , Sara Chandra, Raman CV, Jagadish Chandra Bose and Dr. Abdul Kalama.,\n",
       " These big names make me proud of my country.,\n",
       " My country is a land of villages and fields full of bodies.,\n",
       " I am proud of his village from which the Indian civilization flourished.,\n",
       " Most of the great leaders of our country came from villages.,\n",
       " Our fields are fed by mighty rivers like Ganges, Yamuna, Brahmaputra, Godavari, Narmada, Krishna and Kavery.,\n",
       " The   Gangetic Valley is the most fertile region of our country.,\n",
       " The oceans bathing its shores on three sides and the mighty Himalayas to the north have given my country natural boundaries.,\n",
       " Once again, the attraction of the mountain has attracted many adventures to this land of rich culture.,\n",
       " Our state is secular.,\n",
       " On his knees breathe the happy disciples of the different religions of the world.,\n",
       " We have a unique culture that has vested throughout the centuries.,\n",
       " There is a lot of diversity among our people.,\n",
       " We speak several languages, we worship many gods and yet we have the same spirit, the spirit of India, which crosses all parts of our country and binds us all together.,\n",
       " We have a great unity in diversity.,\n",
       " Basically, Indian culture is tolerant and absorbing.,\n",
       " His nature is assimilative.,\n",
       " The democratic installation facilitates the process.,\n",
       " Diversity in all aspects of society serves as a source of strength and wealth.,\n",
       " The different ways of worshiping and believing represent the underlying uniformity      .,\n",
       " They promote a spirit of harmony and fraternity.,\n",
       " This goes beyond all considerations of religious, regional, linguistic diversity.,\n",
       " India is rich in dialects and languages.,\n",
       " Twenty-two languages constitutionally enjoy official language status, but Hindi is recognized as the lingua franca of the nation.,\n",
       " From Kashmir to Kanyakumari and from Nagaland to Mumbai, Hindi is understood as the national language of India.,\n",
       " Although different regions have different regional affiliations, they are all Indian.,\n",
       " People are called Bihari , Punjabi, Kashmiri, Marathi, Gujarati, but they are proud to say that they are Indians.,\n",
       " Indian dance and theatre are brilliant examples of unity in diversity.,\n",
       " The country is full of tribal dances, folk dances, and classical dances of great virtuosity.,\n",
       " They are considered as the mode of aesthetic expression but they all symbolize India.,\n",
       " The expression is different but the theme is the same.]"
      ]
     },
     "execution_count": 24,
     "metadata": {},
     "output_type": "execute_result"
    }
   ],
   "source": [
    "sentence_tokens"
   ]
  },
  {
   "cell_type": "code",
   "execution_count": null,
   "metadata": {},
   "outputs": [],
   "source": []
  },
  {
   "cell_type": "markdown",
   "metadata": {},
   "source": [
    "# Calculating  sentence scores "
   ]
  },
  {
   "cell_type": "code",
   "execution_count": 25,
   "metadata": {},
   "outputs": [],
   "source": [
    "sentence_score = {}\n",
    "for sent in sentence_tokens:\n",
    "    for word in sent:\n",
    "        if word.text.lower() in word_freq.keys():\n",
    "            if sent not in sentence_score.keys():\n",
    "                sentence_score[sent] = word_freq[word.text.lower()]\n",
    "            else:\n",
    "                sentence_score[sent] += word_freq[word.text.lower()]\n",
    "\n",
    "                "
   ]
  },
  {
   "cell_type": "code",
   "execution_count": 26,
   "metadata": {},
   "outputs": [
    {
     "data": {
      "text/plain": [
       "{India is known for diversity in the region, diversity in languages, diversity in food, diversity in clothing, diversity in the festival, diversity in states, diversity in everything that represents the world.: 8.272727272727272,\n",
       " country and its people.: 1.7272727272727273,\n",
       " India is a country of the republic that is for the people, by the people and by the people.: 3.2727272727272725,\n",
       " People run their county, people choose their own leader, and people are independent of everything.: 2.6363636363636362,\n",
       " India is a country where people are changed according to their location.: 1.9999999999999998,\n",
       " Each state has its incredible beauty of heritage as well as the nation.: 0.7272727272727273,\n",
       " Each state has its own history of religion.: 0.4545454545454546,\n",
       " In the fields of literature and science, my country has produced a prominent personality such as Rabindranath Tagore, Premchand , Sara Chandra, Raman CV, Jagadish Chandra Bose and Dr. Abdul Kalama.: 1.727272727272727,\n",
       " These big names make me proud of my country.: 1.4545454545454546,\n",
       " My country is a land of villages and fields full of bodies.: 1.7272727272727273,\n",
       " I am proud of his village from which the Indian civilization flourished.: 0.5454545454545455,\n",
       " Most of the great leaders of our country came from villages.: 1.6363636363636365,\n",
       " Our fields are fed by mighty rivers like Ganges, Yamuna, Brahmaputra, Godavari, Narmada, Krishna and Kavery.: 0.7272727272727273,\n",
       " The   Gangetic Valley is the most fertile region of our country.: 1.3636363636363638,\n",
       " The oceans bathing its shores on three sides and the mighty Himalayas to the north have given my country natural boundaries.: 1.909090909090909,\n",
       " Once again, the attraction of the mountain has attracted many adventures to this land of rich culture.: 1.0,\n",
       " Our state is secular.: 0.36363636363636365,\n",
       " On his knees breathe the happy disciples of the different religions of the world.: 1.0909090909090908,\n",
       " We have a unique culture that has vested throughout the centuries.: 0.5454545454545455,\n",
       " There is a lot of diversity among our people.: 1.8181818181818181,\n",
       " We speak several languages, we worship many gods and yet we have the same spirit, the spirit of India, which crosses all parts of our country and binds us all together.: 2.454545454545454,\n",
       " We have a great unity in diversity.: 1.4545454545454546,\n",
       " Basically, Indian culture is tolerant and absorbing.: 0.4545454545454546,\n",
       " His nature is assimilative.: 0.18181818181818182,\n",
       " The democratic installation facilitates the process.: 0.36363636363636365,\n",
       " Diversity in all aspects of society serves as a source of strength and wealth.: 1.545454545454545,\n",
       " The different ways of worshiping and believing represent the underlying uniformity      .: 1.0909090909090908,\n",
       " They promote a spirit of harmony and fraternity.: 0.5454545454545455,\n",
       " This goes beyond all considerations of religious, regional, linguistic diversity.: 1.5454545454545454,\n",
       " India is rich in dialects and languages.: 0.6363636363636364,\n",
       " Twenty-two languages constitutionally enjoy official language status, but Hindi is recognized as the lingua franca of the nation.: 1.3636363636363638,\n",
       " From Kashmir to Kanyakumari and from Nagaland to Mumbai, Hindi is understood as the national language of India.: 0.36363636363636365,\n",
       " Although different regions have different regional affiliations, they are all Indian.: 1.2727272727272727,\n",
       " People are called Bihari , Punjabi, Kashmiri, Marathi, Gujarati, but they are proud to say that they are Indians.: 1.0909090909090908,\n",
       " Indian dance and theatre are brilliant examples of unity in diversity.: 1.5454545454545454,\n",
       " The country is full of tribal dances, folk dances, and classical dances of great virtuosity.: 2.454545454545454,\n",
       " They are considered as the mode of aesthetic expression but they all symbolize India.: 0.5454545454545454,\n",
       " The expression is different but the theme is the same.: 0.7272727272727273}"
      ]
     },
     "execution_count": 26,
     "metadata": {},
     "output_type": "execute_result"
    }
   ],
   "source": [
    "sentence_score"
   ]
  },
  {
   "cell_type": "code",
   "execution_count": null,
   "metadata": {},
   "outputs": [],
   "source": []
  },
  {
   "cell_type": "code",
   "execution_count": null,
   "metadata": {},
   "outputs": [],
   "source": []
  },
  {
   "cell_type": "markdown",
   "metadata": {},
   "source": [
    "# get 30% sentence with max score"
   ]
  },
  {
   "cell_type": "code",
   "execution_count": 27,
   "metadata": {},
   "outputs": [],
   "source": [
    "from heapq import nlargest"
   ]
  },
  {
   "cell_type": "code",
   "execution_count": 28,
   "metadata": {},
   "outputs": [],
   "source": [
    "select_len = int(len(sentence_tokens)*0.05)"
   ]
  },
  {
   "cell_type": "code",
   "execution_count": 29,
   "metadata": {},
   "outputs": [
    {
     "data": {
      "text/plain": [
       "1"
      ]
     },
     "execution_count": 29,
     "metadata": {},
     "output_type": "execute_result"
    }
   ],
   "source": [
    "select_len"
   ]
  },
  {
   "cell_type": "code",
   "execution_count": 30,
   "metadata": {},
   "outputs": [],
   "source": [
    "summary= nlargest(select_len,sentence_score,key=sentence_score.get) "
   ]
  },
  {
   "cell_type": "code",
   "execution_count": 31,
   "metadata": {},
   "outputs": [
    {
     "data": {
      "text/plain": [
       "[India is known for diversity in the region, diversity in languages, diversity in food, diversity in clothing, diversity in the festival, diversity in states, diversity in everything that represents the world.]"
      ]
     },
     "execution_count": 31,
     "metadata": {},
     "output_type": "execute_result"
    }
   ],
   "source": [
    "summary"
   ]
  },
  {
   "cell_type": "code",
   "execution_count": null,
   "metadata": {},
   "outputs": [],
   "source": []
  },
  {
   "cell_type": "code",
   "execution_count": null,
   "metadata": {},
   "outputs": [],
   "source": []
  },
  {
   "cell_type": "markdown",
   "metadata": {},
   "source": [
    "# combining sentences of summary "
   ]
  },
  {
   "cell_type": "code",
   "execution_count": 32,
   "metadata": {},
   "outputs": [],
   "source": [
    "final_summary= [word.text for word in summary]"
   ]
  },
  {
   "cell_type": "code",
   "execution_count": 33,
   "metadata": {},
   "outputs": [
    {
     "data": {
      "text/plain": [
       "['India is known for diversity in the region, diversity in languages, diversity in food, diversity in clothing, diversity in the festival, diversity in states, diversity in everything that represents the world.']"
      ]
     },
     "execution_count": 33,
     "metadata": {},
     "output_type": "execute_result"
    }
   ],
   "source": [
    "# converting to list\n",
    "final_summary"
   ]
  },
  {
   "cell_type": "code",
   "execution_count": 34,
   "metadata": {},
   "outputs": [],
   "source": [
    "Summary = ' '.join(final_summary)"
   ]
  },
  {
   "cell_type": "code",
   "execution_count": 35,
   "metadata": {},
   "outputs": [
    {
     "data": {
      "text/plain": [
       "'India is known for diversity in the region, diversity in languages, diversity in food, diversity in clothing, diversity in the festival, diversity in states, diversity in everything that represents the world.'"
      ]
     },
     "execution_count": 35,
     "metadata": {},
     "output_type": "execute_result"
    }
   ],
   "source": [
    "Summary"
   ]
  },
  {
   "cell_type": "code",
   "execution_count": null,
   "metadata": {},
   "outputs": [],
   "source": []
  },
  {
   "cell_type": "markdown",
   "metadata": {},
   "source": [
    "# comparison "
   ]
  },
  {
   "cell_type": "code",
   "execution_count": 36,
   "metadata": {},
   "outputs": [
    {
     "name": "stdout",
     "output_type": "stream",
     "text": [
      "len of original text  3096\n",
      "len of original Summary  208\n"
     ]
    }
   ],
   "source": [
    "print(\"len of original text \",len(text))\n",
    "print(\"len of original Summary \",len(Summary))"
   ]
  },
  {
   "cell_type": "code",
   "execution_count": null,
   "metadata": {},
   "outputs": [],
   "source": []
  }
 ],
 "metadata": {
  "kernelspec": {
   "display_name": "Python 3",
   "language": "python",
   "name": "python3"
  },
  "language_info": {
   "codemirror_mode": {
    "name": "ipython",
    "version": 3
   },
   "file_extension": ".py",
   "mimetype": "text/x-python",
   "name": "python",
   "nbconvert_exporter": "python",
   "pygments_lexer": "ipython3",
   "version": "3.8.3"
  }
 },
 "nbformat": 4,
 "nbformat_minor": 4
}
